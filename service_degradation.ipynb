{
 "cells": [
  {
   "cell_type": "code",
   "execution_count": 1,
   "metadata": {
    "collapsed": true
   },
   "outputs": [],
   "source": [
    "import pandas as pd"
   ]
  },
  {
   "cell_type": "code",
   "execution_count": 16,
   "metadata": {},
   "outputs": [
    {
     "data": {
      "text/html": [
       "<div>\n",
       "<style>\n",
       "    .dataframe thead tr:only-child th {\n",
       "        text-align: right;\n",
       "    }\n",
       "\n",
       "    .dataframe thead th {\n",
       "        text-align: left;\n",
       "    }\n",
       "\n",
       "    .dataframe tbody tr th {\n",
       "        vertical-align: top;\n",
       "    }\n",
       "</style>\n",
       "<table border=\"1\" class=\"dataframe\">\n",
       "  <thead>\n",
       "    <tr style=\"text-align: right;\">\n",
       "      <th></th>\n",
       "      <th>TIMECREATED</th>\n",
       "      <th>CREATEDBY</th>\n",
       "      <th>MASKED_CUSTOMER</th>\n",
       "      <th>STREET</th>\n",
       "      <th>CITY</th>\n",
       "      <th>POSTCODE</th>\n",
       "      <th>DISTRICT</th>\n",
       "      <th>REGION</th>\n",
       "      <th>LATITUDE</th>\n",
       "      <th>LONGITUDE</th>\n",
       "      <th>...</th>\n",
       "      <th>REQUIREDCREWSIZE</th>\n",
       "      <th>INJEOPARDY</th>\n",
       "      <th>JEOPARDYSTATE</th>\n",
       "      <th>PRODUCTDATA</th>\n",
       "      <th>COSTTYPE</th>\n",
       "      <th>COSTAMOUNT</th>\n",
       "      <th>PROGRESSNOTELOG</th>\n",
       "      <th>REDENEN_KEY</th>\n",
       "      <th>COMMERCIALPRODUCT_NAME</th>\n",
       "      <th>ABCAPACITYTYPE_TEXT</th>\n",
       "    </tr>\n",
       "  </thead>\n",
       "  <tbody>\n",
       "    <tr>\n",
       "      <th>0</th>\n",
       "      <td>15-02-2018 00:51:15</td>\n",
       "      <td>NETWORK SERVICE</td>\n",
       "      <td>1590997187</td>\n",
       "      <td>HERDERPLN</td>\n",
       "      <td>UTRECHT</td>\n",
       "      <td>3533BN</td>\n",
       "      <td>NWM1</td>\n",
       "      <td>SOLC-NW</td>\n",
       "      <td>52090510</td>\n",
       "      <td>5080860</td>\n",
       "      <td>...</td>\n",
       "      <td>0</td>\n",
       "      <td>0</td>\n",
       "      <td>NaN</td>\n",
       "      <td>AANSLUITPUNT IK-ADER   IS-STIFT  EINDPUNT EIND...</td>\n",
       "      <td>ADDITIONAL COSTS</td>\n",
       "      <td>0.0</td>\n",
       "      <td>NaN</td>\n",
       "      <td>-2</td>\n",
       "      <td>NaN</td>\n",
       "      <td>Fulfillment Volume</td>\n",
       "    </tr>\n",
       "    <tr>\n",
       "      <th>1</th>\n",
       "      <td>14-02-2018 20:01:32</td>\n",
       "      <td>NETWORK SERVICE</td>\n",
       "      <td>234778208</td>\n",
       "      <td>A ROMEIN VERS STR</td>\n",
       "      <td>ALKMAAR</td>\n",
       "      <td>1827LK</td>\n",
       "      <td>NWN1</td>\n",
       "      <td>SOLC-NW</td>\n",
       "      <td>52667940</td>\n",
       "      <td>4767040</td>\n",
       "      <td>...</td>\n",
       "      <td>0</td>\n",
       "      <td>0</td>\n",
       "      <td>NaN</td>\n",
       "      <td>ACTIVITEIT  VAN UIT   NAAR IN   IK-  DIK AP- I...</td>\n",
       "      <td>ADDITIONAL COSTS</td>\n",
       "      <td>0.0</td>\n",
       "      <td>NaN</td>\n",
       "      <td>-2</td>\n",
       "      <td>NaN</td>\n",
       "      <td>Infra</td>\n",
       "    </tr>\n",
       "    <tr>\n",
       "      <th>2</th>\n",
       "      <td>13-02-2018 09:21:48</td>\n",
       "      <td>NETWORK SERVICE</td>\n",
       "      <td>2971283321</td>\n",
       "      <td>Haverkamp</td>\n",
       "      <td>'S-GRAVENHAGE</td>\n",
       "      <td>2592AV</td>\n",
       "      <td>ZWW1</td>\n",
       "      <td>SOLC-ZW</td>\n",
       "      <td>52090470</td>\n",
       "      <td>4347780</td>\n",
       "      <td>...</td>\n",
       "      <td>0</td>\n",
       "      <td>0</td>\n",
       "      <td>NaN</td>\n",
       "      <td>Gratis installatie door monteur,ADDED:Activati...</td>\n",
       "      <td>ADDITIONAL COSTS</td>\n",
       "      <td>0.0</td>\n",
       "      <td>NaN</td>\n",
       "      <td>-2</td>\n",
       "      <td>Internet en TV</td>\n",
       "      <td>Fulfillment Volume</td>\n",
       "    </tr>\n",
       "    <tr>\n",
       "      <th>3</th>\n",
       "      <td>14-02-2018 14:43:46</td>\n",
       "      <td>NETWORK SERVICE</td>\n",
       "      <td>1780156480</td>\n",
       "      <td>Dirk Heziuslaan</td>\n",
       "      <td>HEEZE</td>\n",
       "      <td>5591AA</td>\n",
       "      <td>ZOM2</td>\n",
       "      <td>SOLC-ZO</td>\n",
       "      <td>51388970</td>\n",
       "      <td>5577040</td>\n",
       "      <td>...</td>\n",
       "      <td>0</td>\n",
       "      <td>0</td>\n",
       "      <td>NaN</td>\n",
       "      <td>Gratis installatie door monteur,ADDED:Activati...</td>\n",
       "      <td>ADDITIONAL COSTS</td>\n",
       "      <td>0.0</td>\n",
       "      <td>NaN</td>\n",
       "      <td>-2</td>\n",
       "      <td>Internet en TV</td>\n",
       "      <td>Fulfillment Volume</td>\n",
       "    </tr>\n",
       "    <tr>\n",
       "      <th>4</th>\n",
       "      <td>14-02-2018 01:04:00</td>\n",
       "      <td>NETWORK SERVICE</td>\n",
       "      <td>234778208</td>\n",
       "      <td>W ARNTSZKD</td>\n",
       "      <td>UTRECHT</td>\n",
       "      <td>3515AL</td>\n",
       "      <td>NWM1</td>\n",
       "      <td>SOLC-NW</td>\n",
       "      <td>52103500</td>\n",
       "      <td>5123110</td>\n",
       "      <td>...</td>\n",
       "      <td>0</td>\n",
       "      <td>0</td>\n",
       "      <td>NaN</td>\n",
       "      <td>ACTIVITEIT  VAN UIT   NAAR IN   IK-  DIK AP- I...</td>\n",
       "      <td>ADDITIONAL COSTS</td>\n",
       "      <td>0.0</td>\n",
       "      <td>NaN</td>\n",
       "      <td>-2</td>\n",
       "      <td>NaN</td>\n",
       "      <td>Infra</td>\n",
       "    </tr>\n",
       "  </tbody>\n",
       "</table>\n",
       "<p>5 rows × 25 columns</p>\n",
       "</div>"
      ],
      "text/plain": [
       "           TIMECREATED        CREATEDBY  MASKED_CUSTOMER             STREET  \\\n",
       "0  15-02-2018 00:51:15  NETWORK SERVICE       1590997187          HERDERPLN   \n",
       "1  14-02-2018 20:01:32  NETWORK SERVICE        234778208  A ROMEIN VERS STR   \n",
       "2  13-02-2018 09:21:48  NETWORK SERVICE       2971283321          Haverkamp   \n",
       "3  14-02-2018 14:43:46  NETWORK SERVICE       1780156480    Dirk Heziuslaan   \n",
       "4  14-02-2018 01:04:00  NETWORK SERVICE        234778208         W ARNTSZKD   \n",
       "\n",
       "            CITY POSTCODE DISTRICT   REGION  LATITUDE  LONGITUDE  \\\n",
       "0        UTRECHT   3533BN     NWM1  SOLC-NW  52090510    5080860   \n",
       "1        ALKMAAR   1827LK     NWN1  SOLC-NW  52667940    4767040   \n",
       "2  'S-GRAVENHAGE   2592AV     ZWW1  SOLC-ZW  52090470    4347780   \n",
       "3          HEEZE   5591AA     ZOM2  SOLC-ZO  51388970    5577040   \n",
       "4        UTRECHT   3515AL     NWM1  SOLC-NW  52103500    5123110   \n",
       "\n",
       "          ...          REQUIREDCREWSIZE  INJEOPARDY  JEOPARDYSTATE  \\\n",
       "0         ...                         0           0            NaN   \n",
       "1         ...                         0           0            NaN   \n",
       "2         ...                         0           0            NaN   \n",
       "3         ...                         0           0            NaN   \n",
       "4         ...                         0           0            NaN   \n",
       "\n",
       "                                         PRODUCTDATA          COSTTYPE  \\\n",
       "0  AANSLUITPUNT IK-ADER   IS-STIFT  EINDPUNT EIND...  ADDITIONAL COSTS   \n",
       "1  ACTIVITEIT  VAN UIT   NAAR IN   IK-  DIK AP- I...  ADDITIONAL COSTS   \n",
       "2  Gratis installatie door monteur,ADDED:Activati...  ADDITIONAL COSTS   \n",
       "3  Gratis installatie door monteur,ADDED:Activati...  ADDITIONAL COSTS   \n",
       "4  ACTIVITEIT  VAN UIT   NAAR IN   IK-  DIK AP- I...  ADDITIONAL COSTS   \n",
       "\n",
       "   COSTAMOUNT  PROGRESSNOTELOG  REDENEN_KEY COMMERCIALPRODUCT_NAME  \\\n",
       "0         0.0              NaN           -2                    NaN   \n",
       "1         0.0              NaN           -2                    NaN   \n",
       "2         0.0              NaN           -2         Internet en TV   \n",
       "3         0.0              NaN           -2         Internet en TV   \n",
       "4         0.0              NaN           -2                    NaN   \n",
       "\n",
       "  ABCAPACITYTYPE_TEXT  \n",
       "0  Fulfillment Volume  \n",
       "1               Infra  \n",
       "2  Fulfillment Volume  \n",
       "3  Fulfillment Volume  \n",
       "4               Infra  \n",
       "\n",
       "[5 rows x 25 columns]"
      ]
     },
     "execution_count": 16,
     "metadata": {},
     "output_type": "execute_result"
    }
   ],
   "source": [
    "data = pd.read_excel(\"../data/lotte_dataset.xlsx\")\n",
    "data.head()"
   ]
  },
  {
   "cell_type": "code",
   "execution_count": 15,
   "metadata": {},
   "outputs": [
    {
     "name": "stdout",
     "output_type": "stream",
     "text": [
      "12-02-2018 00:07:26\n",
      "18-02-2018 23:56:12\n"
     ]
    }
   ],
   "source": [
    "print(data[\"TIMECREATED\"].min())\n",
    "print(data[\"TIMECREATED\"].max())"
   ]
  },
  {
   "cell_type": "code",
   "execution_count": null,
   "metadata": {
    "collapsed": true
   },
   "outputs": [],
   "source": [
    "# To-do:\n",
    "#     - Text chunks:What the structure of technical structure data chunks\n",
    "#     - Geo spatial plotting\n",
    "#     - Get the feeling with the engineers "
   ]
  },
  {
   "cell_type": "code",
   "execution_count": 2,
   "metadata": {},
   "outputs": [],
   "source": [
    "a_list = [1, 3, 4, 4]"
   ]
  },
  {
   "cell_type": "code",
   "execution_count": 4,
   "metadata": {},
   "outputs": [
    {
     "data": {
      "text/plain": [
       "[3, 9, 12, 12]"
      ]
     },
     "execution_count": 4,
     "metadata": {},
     "output_type": "execute_result"
    }
   ],
   "source": [
    "[a * 3 for a in a_list]\n"
   ]
  },
  {
   "cell_type": "code",
   "execution_count": 25,
   "metadata": {},
   "outputs": [
    {
     "data": {
      "text/plain": [
       "'100 NORTH RD BROAD MAIN RD'"
      ]
     },
     "execution_count": 25,
     "metadata": {},
     "output_type": "execute_result"
    }
   ],
   "source": [
    "import re\n",
    "s = '100 NORTH ROAD BROAD MAIN ROAD'\n",
    "re.sub(r'\\bROAD\\b', 'RD', s)"
   ]
  },
  {
   "cell_type": "code",
   "execution_count": 10,
   "metadata": {},
   "outputs": [
    {
     "data": {
      "text/plain": [
       "{0, 1, 2, 3, 4, 5, 6, 7, 8, 9, 10, 11, 12, 13, 14, 15, 16, 17, 18, 19}"
      ]
     },
     "execution_count": 10,
     "metadata": {},
     "output_type": "execute_result"
    }
   ],
   "source": [
    "a_set = set(range(20))\n",
    "a_set"
   ]
  },
  {
   "cell_type": "code",
   "execution_count": 27,
   "metadata": {},
   "outputs": [],
   "source": [
    "import re \n",
    "\n",
    "def plural(noun):\n",
    "    if re.search('[sxz]$', noun):\n",
    "        return re.sub('$', 'es', noun)\n",
    "    elif re.search('[^aeioudgkprt]h$', 'es', noun):\n",
    "        return re.sub('$', 'es', noun)\n",
    "    elif re.search('[^aeiou]y$', noun):\n",
    "        return re.sub('y$', 'ies', noun)\n",
    "    else:\n",
    "        return noun + 's'"
   ]
  },
  {
   "cell_type": "code",
   "execution_count": 43,
   "metadata": {},
   "outputs": [],
   "source": [
    "def match_h(noun):\n",
    "    return re.sub('y$', 'ies', noun)"
   ]
  },
  {
   "cell_type": "code",
   "execution_count": 48,
   "metadata": {
    "collapsed": true
   },
   "outputs": [],
   "source": [
    "import re\n",
    "def match_sxz(noun):\n",
    "    return re.search('[sxz]$', noun)\n",
    "def apply_sxz(noun):\n",
    "    return re.sub('$', 'es', noun)\n",
    "def match_h(noun):\n",
    "    return re.search('[^aeioudgkprt]h$', noun)\n",
    "def apply_h(noun):\n",
    "    return re.sub('$', 'es', noun)"
   ]
  },
  {
   "cell_type": "code",
   "execution_count": 49,
   "metadata": {
    "collapsed": true
   },
   "outputs": [],
   "source": [
    "def match_y(noun):\n",
    "    return re.search('[^aeiou]y$', noun)\n",
    "def apply_y(noun):\n",
    "    return re.sub('y$', 'ies', noun)\n",
    "def match_default(noun):\n",
    "    return True\n",
    "def apply_default(noun):\n",
    "    return noun + 's'"
   ]
  },
  {
   "cell_type": "code",
   "execution_count": 50,
   "metadata": {},
   "outputs": [],
   "source": [
    "rules = ((match_sxz, apply_sxz), (match_h, apply_h), (match_y, apply_y), (match_default, apply_default))"
   ]
  },
  {
   "cell_type": "code",
   "execution_count": 57,
   "metadata": {},
   "outputs": [],
   "source": [
    "def plural(kwargs):\n",
    "    for match, apply in rules:\n",
    "        if match(noun):\n",
    "            return apply(noun)\n",
    "        "
   ]
  },
  {
   "cell_type": "code",
   "execution_count": 58,
   "metadata": {},
   "outputs": [
    {
     "ename": "TypeError",
     "evalue": "plural() takes 1 positional argument but 2 were given",
     "output_type": "error",
     "traceback": [
      "\u001b[1;31m---------------------------------------------------------------------------\u001b[0m",
      "\u001b[1;31mTypeError\u001b[0m                                 Traceback (most recent call last)",
      "\u001b[1;32m<ipython-input-58-3754a4620bd7>\u001b[0m in \u001b[0;36m<module>\u001b[1;34m()\u001b[0m\n\u001b[1;32m----> 1\u001b[1;33m \u001b[0mplural\u001b[0m\u001b[1;33m(\u001b[0m\u001b[1;34m\"eye\"\u001b[0m\u001b[1;33m,\u001b[0m \u001b[1;34m\"el\"\u001b[0m\u001b[1;33m)\u001b[0m\u001b[1;33m\u001b[0m\u001b[0m\n\u001b[0m",
      "\u001b[1;31mTypeError\u001b[0m: plural() takes 1 positional argument but 2 were given"
     ]
    }
   ],
   "source": [
    "plural(\"eye\", \"el\")"
   ]
  },
  {
   "cell_type": "code",
   "execution_count": 59,
   "metadata": {
    "collapsed": true
   },
   "outputs": [],
   "source": [
    "def build_match_and_apply(pattern, search, replace):\n",
    "    def matches_rule(word):\n",
    "        return re.search(pattern, word)\n",
    "    def apply_rule(word):\n",
    "        return re.sub(search, replace, word)\n",
    "    return(matches_rule, apply_rule)"
   ]
  },
  {
   "cell_type": "code",
   "execution_count": 66,
   "metadata": {},
   "outputs": [],
   "source": [
    "def fib(max):\n",
    "    a, b = 0 , 1\n",
    "    while a < max:\n",
    "        print (a)\n",
    "        yield a\n",
    "        print (a)\n",
    "        a, b = b, a + b "
   ]
  },
  {
   "cell_type": "code",
   "execution_count": 70,
   "metadata": {},
   "outputs": [
    {
     "name": "stdout",
     "output_type": "stream",
     "text": [
      "0\n"
     ]
    },
    {
     "data": {
      "text/plain": [
       "0"
      ]
     },
     "execution_count": 70,
     "metadata": {},
     "output_type": "execute_result"
    }
   ],
   "source": [
    "next(fib(9))"
   ]
  }
 ],
 "metadata": {
  "kernelspec": {
   "display_name": "Python 3",
   "language": "python",
   "name": "python3"
  },
  "language_info": {
   "codemirror_mode": {
    "name": "ipython",
    "version": 3
   },
   "file_extension": ".py",
   "mimetype": "text/x-python",
   "name": "python",
   "nbconvert_exporter": "python",
   "pygments_lexer": "ipython3",
   "version": "3.6.3"
  }
 },
 "nbformat": 4,
 "nbformat_minor": 2
}
